{
 "cells": [
  {
   "cell_type": "markdown",
   "metadata": {
    "toc": true
   },
   "source": [
    "<h1>Table of Contents<span class=\"tocSkip\"></span></h1>\n",
    "<div class=\"toc\"><ul class=\"toc-item\"><li><span><a href=\"#Mountain-Car:-REINFORCE-Monte-Carlo-Policy-Gradients\" data-toc-modified-id=\"Mountain-Car:-REINFORCE-Monte-Carlo-Policy-Gradients-1\">Mountain Car: REINFORCE Monte Carlo Policy Gradients</a></span></li><li><span><a href=\"#This-is-a-notebook-from-Deep-Reinforcement-Learning-Course-with-Tensorflow\" data-toc-modified-id=\"This-is-a-notebook-from-Deep-Reinforcement-Learning-Course-with-Tensorflow-2\">This is a notebook from <a href=\"https://simoninithomas.github.io/Deep_reinforcement_learning_Course/\" target=\"_blank\">Deep Reinforcement Learning Course with Tensorflow</a></a></span><ul class=\"toc-item\"><li><span><a href=\"#Step-1:-Import-the-libraries\" data-toc-modified-id=\"Step-1:-Import-the-libraries-2.1\">Step 1: Import the libraries</a></span></li><li><span><a href=\"#Step-2:-Create-our-environment\" data-toc-modified-id=\"Step-2:-Create-our-environment-2.2\">Step 2: Create our environment</a></span></li><li><span><a href=\"#Step-3:-Set-up-our-hyperparameters\" data-toc-modified-id=\"Step-3:-Set-up-our-hyperparameters-2.3\">Step 3: Set up our hyperparameters</a></span></li><li><span><a href=\"#Step-4-:-Define-the-preprocessing-functions️\" data-toc-modified-id=\"Step-4-:-Define-the-preprocessing-functions️-2.4\">Step 4 : Define the preprocessing functions️</a></span></li><li><span><a href=\"#Step-5:-Create-our-Policy-Gradient-Neural-Network-model\" data-toc-modified-id=\"Step-5:-Create-our-Policy-Gradient-Neural-Network-model-2.5\">Step 5: Create our Policy Gradient Neural Network model</a></span></li><li><span><a href=\"#Step-6:-Set-up-Tensorboard\" data-toc-modified-id=\"Step-6:-Set-up-Tensorboard-2.6\">Step 6: Set up Tensorboard</a></span></li><li><span><a href=\"#Step-7:-Train-our-Agent\" data-toc-modified-id=\"Step-7:-Train-our-Agent-2.7\">Step 7: Train our Agent</a></span></li><li><span><a href=\"#Step-8:-Evaluate-our-trained-model\" data-toc-modified-id=\"Step-8:-Evaluate-our-trained-model-2.8\">Step 8: Evaluate our trained model</a></span></li><li><span><a href=\"#Report\" data-toc-modified-id=\"Report-2.9\">Report</a></span></li></ul></li></ul></div>"
   ]
  },
  {
   "cell_type": "markdown",
   "metadata": {},
   "source": [
    "# Mountain Car: REINFORCE Monte Carlo Policy Gradients"
   ]
  },
  {
   "cell_type": "markdown",
   "metadata": {},
   "source": [
    "In this notebook we'll implement an agent that plays <b> MountainCar-v0 </b>\n",
    "<video controls src=\"./assets/mountain_car.mp4\" />"
   ]
  },
  {
   "cell_type": "markdown",
   "metadata": {},
   "source": [
    "# This is a notebook from [Deep Reinforcement Learning Course with Tensorflow](https://simoninithomas.github.io/Deep_reinforcement_learning_Course/)\n",
    "\n",
    "The original notebook, with a solution for CartPole is [here](https://github.com/simoninithomas/Deep_reinforcement_learning_Course/blob/master/Policy%20Gradients/Cartpole/Cartpole%20REINFORCE%20Monte%20Carlo%20Policy%20Gradients.ipynb)\n"
   ]
  },
  {
   "cell_type": "markdown",
   "metadata": {},
   "source": [
    "## Step 1: Import the libraries"
   ]
  },
  {
   "cell_type": "code",
   "execution_count": 1,
   "metadata": {},
   "outputs": [],
   "source": [
    "import tensorflow as tf\n",
    "import numpy as np\n",
    "import gym"
   ]
  },
  {
   "cell_type": "markdown",
   "metadata": {},
   "source": [
    "## Step 2: Create our environment\n",
    "This time we use <a href=\"https://gym.openai.com/\">OpenAI Gym</a> which has a lot of great environments."
   ]
  },
  {
   "cell_type": "code",
   "execution_count": 2,
   "metadata": {},
   "outputs": [
    {
     "name": "stdout",
     "output_type": "stream",
     "text": [
      "\u001b[33mWARN: gym.spaces.Box autodetected dtype as <class 'numpy.float32'>. Please provide explicit dtype.\u001b[0m\n"
     ]
    }
   ],
   "source": [
    "# env_name = 'CartPole-v0'\n",
    "env_name = 'MountainCar-v0'\n",
    "# env = gym.make('MountainCar-v0')\n",
    "env = gym.make(env_name)\n",
    "env = env.unwrapped\n",
    "# Policy gradient has high variance, seed for reproducability\n",
    "env.seed(1);"
   ]
  },
  {
   "cell_type": "markdown",
   "metadata": {},
   "source": [
    "## Step 3: Set up our hyperparameters "
   ]
  },
  {
   "cell_type": "code",
   "execution_count": 3,
   "metadata": {},
   "outputs": [],
   "source": [
    "## ENVIRONMENT Hyperparameters\n",
    "state_size = env.observation_space.shape[0]\n",
    "action_size = env.action_space.n\n",
    "# print(action_size, state_size)\n",
    "## TRAINING Hyperparameters\n",
    "max_episodes = 300\n",
    "learning_rate = 0.01\n",
    "STEP_MULTIPLE = 3.0\n",
    "gamma = 0.95 # Discount rate"
   ]
  },
  {
   "cell_type": "markdown",
   "metadata": {},
   "source": [
    "## Step 4 : Define the preprocessing functions️\n",
    "This function takes <b>the rewards and perform discounting.</b>"
   ]
  },
  {
   "cell_type": "code",
   "execution_count": 4,
   "metadata": {},
   "outputs": [],
   "source": [
    "def discount_and_normalize_rewards(episode_rewards):\n",
    "    discounted_episode_rewards = np.zeros_like(episode_rewards)\n",
    "    cumulative = 0.0\n",
    "    for i in reversed(range(len(episode_rewards))):\n",
    "        cumulative = cumulative * gamma + episode_rewards[i]\n",
    "        discounted_episode_rewards[i] = cumulative\n",
    "    \n",
    "    mean = np.mean(discounted_episode_rewards)\n",
    "    std = np.std(discounted_episode_rewards)\n",
    "    discounted_episode_rewards = (discounted_episode_rewards - mean) / (std)\n",
    "    \n",
    "    return discounted_episode_rewards"
   ]
  },
  {
   "cell_type": "markdown",
   "metadata": {},
   "source": [
    "## Step 5: Create our Policy Gradient Neural Network model"
   ]
  },
  {
   "cell_type": "markdown",
   "metadata": {},
   "source": [
    "<img src=\"./assets/mountain_car.jpeg\">\n",
    "\n",
    "The idea is simple:\n",
    "- Our state which is an array of 2 values, **position** and **velocity**, which will be used as an input.\n",
    "- Our NN is 3 fully connected layers.\n",
    "- Our output activation function is **softmax** that squashes the outputs to a probability distribution:\n",
    "    - for instance: $ softmax(4,\\ 2,\\ 6) \\rightarrow (0.117,\\ 0.016,\\ 0.867) $"
   ]
  },
  {
   "cell_type": "code",
   "execution_count": 5,
   "metadata": {},
   "outputs": [],
   "source": [
    "with tf.device(\"/device:GPU:1\"):\n",
    "    with tf.name_scope(\"inputs\"):\n",
    "        input_ = tf.placeholder(tf.float32, [None, state_size], name=\"input_\")\n",
    "        actions = tf.placeholder(tf.int32, [None, action_size], name=\"actions\")\n",
    "        discounted_episode_rewards_ = tf.placeholder(\n",
    "            tf.float32, [None,], name=\"discounted_episode_rewards\")\n",
    "\n",
    "        # Add this placeholder for having this variable in tensorboard\n",
    "        mean_reward_ = tf.placeholder(tf.float32 , name=\"mean_reward\")\n",
    "\n",
    "        with tf.name_scope(\"fc1\"):\n",
    "            fc1 = tf.contrib.layers.fully_connected(\n",
    "                inputs = input_, num_outputs = 10,\n",
    "                activation_fn=tf.nn.relu,\n",
    "                weights_initializer=tf.contrib.layers.xavier_initializer()) \n",
    "        with tf.name_scope(\"fc2\"):\n",
    "            fc2 = tf.contrib.layers.fully_connected(\n",
    "                inputs = fc1, num_outputs = action_size,\n",
    "                activation_fn=tf.nn.relu,\n",
    "                weights_initializer=tf.contrib.layers.xavier_initializer())\n",
    "\n",
    "        with tf.name_scope(\"fc3\"):\n",
    "            fc3 = tf.contrib.layers.fully_connected(\n",
    "                inputs = fc2, num_outputs = action_size,\n",
    "                activation_fn= None,\n",
    "                weights_initializer=tf.contrib.layers.xavier_initializer()) \n",
    "            \n",
    "        with tf.name_scope(\"softmax\"):\n",
    "            action_distribution = tf.nn.softmax(fc3)\n",
    "\n",
    "        with tf.name_scope(\"loss\"):\n",
    "            # tf.nn.softmax_cross_entropy_with_logits computes the cross entropy \n",
    "            # of the result after applying the softmax function\n",
    "            # If you have single-class labels, where an object can only belong to one class,\n",
    "            # you might now consider using tf.nn.sparse_softmax_cross_entropy_with_logits \n",
    "            # so that you don't have to convert your labels to a dense one-hot array. \n",
    "            neg_log_prob = tf.nn.softmax_cross_entropy_with_logits_v2(\n",
    "                logits = fc3, labels = actions)\n",
    "            loss = tf.reduce_mean(neg_log_prob * discounted_episode_rewards_) \n",
    "\n",
    "\n",
    "        with tf.name_scope(\"train\"):\n",
    "            train_opt = tf.train.AdamOptimizer(learning_rate).minimize(loss)"
   ]
  },
  {
   "cell_type": "markdown",
   "metadata": {},
   "source": [
    "## Step 6: Set up Tensorboard\n",
    "For more information about tensorboard, please watch this <a href=\"https://www.youtube.com/embed/eBbEDRsCmv4\">excellent 30min tutorial</a> <br><br>\n",
    "To launch tensorboard : `tensorboard --logdir=./tensorboard/pg/1`"
   ]
  },
  {
   "cell_type": "code",
   "execution_count": 6,
   "metadata": {},
   "outputs": [
    {
     "name": "stdout",
     "output_type": "stream",
     "text": [
      "/home/andrew/Documents/redpanda/move_37/week_8\r\n"
     ]
    }
   ],
   "source": [
    "# Setup TensorBoard Writer\n",
    "# writer = tf.summary.FileWriter(\"/tensorboard/pg/1\")\n",
    "!rm -Rf ./tensorboard\n",
    "writer = tf.summary.FileWriter(\"./tensorboard/pg/1\")\n",
    "\n",
    "## Losses\n",
    "tf.summary.scalar(\"Loss\", loss)\n",
    "\n",
    "## Reward mean\n",
    "tf.summary.scalar(\"Reward_mean\", mean_reward_)\n",
    "\n",
    "write_op = tf.summary.merge_all()\n",
    "\n",
    "#!tensorboard --logdir=\"./tensorboard/pg/1\"\n",
    "!pwd"
   ]
  },
  {
   "cell_type": "markdown",
   "metadata": {},
   "source": [
    "## Step 7: Train our Agent "
   ]
  },
  {
   "cell_type": "raw",
   "metadata": {},
   "source": [
    "Create the NN\n",
    "maxReward = 0 # Keep track of maximum reward\n",
    "For episode in range(max_episodes):\n",
    "    episode + 1\n",
    "    reset environment\n",
    "    reset stores (states, actions, rewards)\n",
    "    \n",
    "    For each step:\n",
    "        Choose action a\n",
    "        Perform action a\n",
    "        Store s, a, r\n",
    "        If done:\n",
    "            Calculate sum reward\n",
    "            Calculate gamma Gt\n",
    "            Optimize"
   ]
  },
  {
   "cell_type": "code",
   "execution_count": 7,
   "metadata": {},
   "outputs": [
    {
     "data": {
      "image/png": "[encoded data removed]",
      "text/plain": [
       "<Figure size 864x288 with 2 Axes>"
      ]
     },
     "metadata": {
      "needs_background": "light"
     },
     "output_type": "display_data"
    }
   ],
   "source": [
    "allRewards = []\n",
    "total_rewards = 0\n",
    "maximumRewardRecorded = 0\n",
    "episode = 0\n",
    "episode_states, episode_actions, episode_rewards = [],[],[]\n",
    "max_reward_history = []\n",
    "step_max_history = []\n",
    "saver = tf.train.Saver()\n",
    "\n",
    "\n",
    "import datetime\n",
    "import math\n",
    "from tqdm import tqdm, tnrange\n",
    "\n",
    "from IPython.display import clear_output\n",
    "import matplotlib.pyplot as plt\n",
    "from time import strftime\n",
    "%matplotlib inline \n",
    "\n",
    "def time_delta_report(time_delta):\n",
    "    if time_delta is None:\n",
    "        time_delta = \"None\"\n",
    "    else:\n",
    "        days = time_delta.days\n",
    "        hours, remainder = divmod(time_delta.seconds, 3600)\n",
    "        minutes, seconds = divmod(remainder, 60)\n",
    "        time_delta = f\"{days}:{str(hours).zfill(2)}:{str(minutes).zfill(2)}:{str(seconds).zfill(2)}\"\n",
    "    return time_delta\n",
    "        \n",
    "def plot_me(max_reward_history, episode, max_episodes, step_max, max_reward,\n",
    "            ep_delta, sim_delta):\n",
    "    clear_output(True)\n",
    "    fig = plt.figure(figsize=[12, 4])\n",
    "    remaining_episodes = max_episodes - episode - 1 \n",
    "   \n",
    "    if ep_delta is None:\n",
    "        eta_r = \"None\"\n",
    "    else:\n",
    "        eta_r = time_delta_report(remaining_episodes * ep_delta)\n",
    "        \n",
    "    ep_delta_r: str = time_delta_report(ep_delta)\n",
    "    sim_delta_r = time_delta_report(sim_delta)\n",
    "    remaining_episodes = max_episodes - episode - 1\n",
    "\n",
    "    fig.suptitle(f\"Episode {episode}/{max_episodes}, \"\n",
    "                 f\"Training : {sim_delta_r}  Episode : {ep_delta_r}  \"\n",
    "                 f\"ETA: {eta_r}\",\n",
    "                 fontsize=20, y=1.2)\n",
    "    plt.subplot(1, 2, 1)\n",
    "    plt.title(f\"Max Reward: {max_reward}\")\n",
    "    plt.plot(max_reward_history)\n",
    "    plt.grid()\n",
    "    \n",
    "    plt.subplot(1, 2, 2)\n",
    "    plt.title(f\"Step Max: {step_max}\")\n",
    "    plt.plot(step_max_history, color=\"green\")\n",
    "    plt.grid()\n",
    "    \n",
    "    plt.show()\n",
    "\n",
    "step_max = 20000\n",
    "with tf.Session() as sess:\n",
    "    sess.run(tf.global_variables_initializer())\n",
    "    \n",
    "    old_position, old_velocity = None, None\n",
    "    time_delta = None\n",
    "    sim_start_time = datetime.datetime.now()\n",
    "    sim_delta = None\n",
    "    for episode in range(max_episodes):\n",
    "        plot_me(max_reward_history, episode, max_episodes, step_max, maximumRewardRecorded, time_delta, sim_delta)       \n",
    "        episode_rewards_sum = 0\n",
    "\n",
    "        # Launch the game\n",
    "        state = env.reset()\n",
    "        start_time = datetime.datetime.now()\n",
    "        \n",
    "        #env.render()\n",
    "\n",
    "        episode_max_pos, episode_min_pos = float(\"-2.0\"), float(\"2.0\")\n",
    "        direction_change_counter = 0\n",
    "        fail = False\n",
    "        str_width = int(math.log10(max_episodes)) + 1\n",
    "        str_episode = str(episode).zfill(str_width)\n",
    "\n",
    "        for counter in range(step_max):\n",
    "            # Choose action a, remember WE'RE NOT IN A DETERMINISTIC ENVIRONMENT,\n",
    "            # WE'RE OUTPUT PROBABILITIES.\n",
    "\n",
    "            action_probability_distribution = sess.run(\n",
    "                action_distribution, feed_dict={input_: state.reshape([1,state_size])})\n",
    "                # select action w.r.t the actions prob \n",
    "            action = np.random.choice(\n",
    "                range(\n",
    "                    action_probability_distribution.shape[1]),\n",
    "                    p=action_probability_distribution.ravel())\n",
    "\n",
    "            new_state, reward, done, info = env.step(action)\n",
    "\n",
    "            if old_position is None:\n",
    "                old_position, old_velocity = new_state\n",
    "            else:\n",
    "                old_position, old_velocity = position, velocity\n",
    "                \n",
    "            position, velocity = new_state\n",
    "            velocity_sign = velocity * old_velocity\n",
    "            \n",
    "            bonus = 0.0\n",
    "            if velocity_sign < 0.0:\n",
    "                new_record = False\n",
    "                direction_change_counter += 1\n",
    "                if position > episode_max_pos:\n",
    "                    episode_max_pos = position\n",
    "                    new_record = True\n",
    "                elif position < episode_min_pos:\n",
    "                    episode_min_pos = position\n",
    "                    new_record = True\n",
    "\n",
    "                if new_record:\n",
    "                    bonus = 10.0  # bonus for gaining potential energy\n",
    "                else:\n",
    "                    bonus = -2.0  # penalty for wasting potential energy\n",
    "\n",
    "            reward += bonus\n",
    "            \n",
    "            counter += 1\n",
    "            #if counter == 10:\n",
    "            #    break\n",
    "            # Store s, a, r\n",
    "            episode_states.append(state)\n",
    "                        \n",
    "            # For actions because we output only one (the index) we need 2\n",
    "            # (1 is for the action taken)\n",
    "            # We need [0., 1.] (if we take right) not just the index\n",
    "            action_ = np.zeros(action_size)\n",
    "            action_[action] = 1\n",
    "            \n",
    "            episode_actions.append(action_)\n",
    "            \n",
    "            episode_rewards.append(reward)\n",
    "           \n",
    "            if counter >= step_max:\n",
    "                # Bad Ending\n",
    "                if episode <= max_episodes:\n",
    "                    done = True\n",
    "                    fail = True\n",
    "                else:\n",
    "                    step_max = 1000000\n",
    "                    \n",
    "                \n",
    "            if done:\n",
    "\n",
    "                if counter < step_max / STEP_MULTIPLE :\n",
    "                    step_max = int(counter * STEP_MULTIPLE)\n",
    "                    \n",
    "                # Calculate sum reward\n",
    "                episode_rewards_sum = np.sum(episode_rewards)\n",
    "                \n",
    "                allRewards.append(episode_rewards_sum)\n",
    "                \n",
    "                total_rewards = np.sum(allRewards)\n",
    "                \n",
    "                # Mean reward\n",
    "                mean_reward = np.divide(total_rewards, episode+1)\n",
    "                \n",
    "                \n",
    "                maximumRewardRecorded = np.amax(allRewards)\n",
    "                max_reward_history.append(maximumRewardRecorded)\n",
    "                step_max_history.append(step_max)\n",
    "                # plot_me(max_reward_history, episode, max_episodes)\n",
    "                end_time = datetime.datetime.now()\n",
    "                time_delta = end_time - start_time\n",
    "                sim_delta = end_time - sim_start_time\n",
    "                \n",
    "                # Calculate discounted reward\n",
    "                discounted_episode_rewards = discount_and_normalize_rewards(episode_rewards)\n",
    "                                \n",
    "                # Feedforward, gradient and backpropagation\n",
    "                loss_, _ = sess.run(\n",
    "                    [loss, train_opt],\n",
    "                    feed_dict={\n",
    "                        input_: np.vstack(np.array(episode_states)),\n",
    "                        actions: np.vstack(np.array(episode_actions)),\n",
    "                        discounted_episode_rewards_: discounted_episode_rewards \n",
    "                    }\n",
    "                )\n",
    "                \n",
    "                # Write TF Summaries\n",
    "                summary = sess.run(write_op,\n",
    "                   feed_dict={\n",
    "                       input_: np.vstack(np.array(episode_states)),\n",
    "                       actions: np.vstack(np.array(episode_actions)),\n",
    "                       discounted_episode_rewards_: discounted_episode_rewards,\n",
    "                       mean_reward_: mean_reward\n",
    "                   }\n",
    "                )\n",
    "                \n",
    "                writer.add_summary(summary, episode)\n",
    "                writer.flush()\n",
    "                \n",
    "                # Reset the transition stores\n",
    "                episode_states, episode_actions, episode_rewards = [],[],[]\n",
    "                \n",
    "                break\n",
    "            \n",
    "            state = new_state\n",
    "        \n",
    "        # Save Model\n",
    "        if episode % 100 == 0:\n",
    "            saver.save(sess, \"./models/model.ckpt\")\n",
    "            print(\"Model saved\")"
   ]
  },
  {
   "cell_type": "markdown",
   "metadata": {},
   "source": [
    "## Step 8: Evaluate our trained model\n",
    "\n",
    "Load our model and see if it generalizes well by solving 10 random games and averaging the score"
   ]
  },
  {
   "cell_type": "code",
   "execution_count": 8,
   "metadata": {},
   "outputs": [
    {
     "name": "stdout",
     "output_type": "stream",
     "text": [
      "INFO:tensorflow:Restoring parameters from ./models/model.ckpt\n",
      "****************************************************\n",
      "EPISODE  0\n",
      "Score -1018.0\n",
      "****************************************************\n",
      "EPISODE  1\n",
      "Score -738.0\n",
      "****************************************************\n",
      "EPISODE  2\n",
      "Score -540.0\n",
      "****************************************************\n",
      "EPISODE  3\n",
      "Score -1287.0\n",
      "****************************************************\n",
      "EPISODE  4\n",
      "Score -657.0\n",
      "****************************************************\n",
      "EPISODE  5\n",
      "Score -925.0\n",
      "****************************************************\n",
      "EPISODE  6\n",
      "Score -1182.0\n",
      "****************************************************\n",
      "EPISODE  7\n",
      "Score -836.0\n",
      "****************************************************\n",
      "EPISODE  8\n",
      "Score -818.0\n",
      "****************************************************\n",
      "EPISODE  9\n",
      "Score -773.0\n",
      "Score over time: -877.4\n"
     ]
    }
   ],
   "source": [
    "with tf.Session() as sess:\n",
    "    env.reset()\n",
    "    rewards = []\n",
    "    \n",
    "    # Load the model\n",
    "    saver.restore(sess, \"./models/model.ckpt\")\n",
    "\n",
    "    for episode in range(10):\n",
    "        state = env.reset()\n",
    "        step = 0\n",
    "        done = False\n",
    "        total_rewards = 0\n",
    "        print(\"****************************************************\")\n",
    "        print(\"EPISODE \", episode)\n",
    "\n",
    "        while True:\n",
    "            \n",
    "\n",
    "            # Choose action a, remember WE'RE NOT IN A DETERMINISTIC ENVIRONMENT, WE'RE OUTPUT PROBABILITIES.\n",
    "            action_probability_distribution = sess.run(action_distribution, feed_dict={input_: state.reshape([1, state_size])})\n",
    "            #print(action_probability_distribution)\n",
    "            action = np.random.choice(range(action_probability_distribution.shape[1]), p=action_probability_distribution.ravel())  # select action w.r.t the actions prob\n",
    "\n",
    "\n",
    "            new_state, reward, done, info = env.step(action)\n",
    "\n",
    "            total_rewards += reward\n",
    "\n",
    "            if done:\n",
    "                rewards.append(total_rewards)\n",
    "                print (\"Score\", total_rewards)\n",
    "                break\n",
    "            state = new_state\n",
    "    env.close()\n",
    "    print (\"Score over time: \" +  str(sum(rewards)/10))"
   ]
  },
  {
   "cell_type": "markdown",
   "metadata": {},
   "source": [
    "## Report\n",
    "\n",
    "1.  base run with CartPole environment\n",
    "2.  changed environment to MountainCar\n",
    "3.  Changed Neural Network input to match new environment state_space dimensions\n",
    "4.  Fitness Function Experiments:\n",
    "     1. score initially improved but was stuck throughout the rest of training. Not very promising\n",
    "\t 2. Designed a new metric, **potential energy (PE)**\n",
    "         1.  Successfully improving PE during a direction change grants a bonus of +10 reward\n",
    "         2.  Failure to improve PE during a direction change provides a penalty of -2 reward\n",
    "\t 3. Added a **step limit multiplier** hyperparameter to the training that constrained training episode duration to be a multiple of our fastest training episode. Initial multiple was 1.5. \n",
    "         1.  This combined with **experiment B** definitely improved the score further during training. \n",
    "         2.  Post training evaluation results were not great.  Rewards were constantly in the negative thousands (~ -5000) \n",
    "\t 4. We found that the last set of training episodes had very short training times due to the lower step limit multiplier (1.5). To loosen this constraint, we increased the step limit multiplier from 1.5 to 3.0.\n",
    "         1.  Rewards constantly improved during training as before. \n",
    "         2.  Post training evaluation results were much better. Rewards were averaging ~-500. So this change led to an order of magnitude improvement in our evaluation testing.\n"
   ]
  }
 ],
 "metadata": {
  "kernelspec": {
   "display_name": "Python [conda env:move_37]",
   "language": "python",
   "name": "conda-env-move_37-py"
  },
  "language_info": {
   "codemirror_mode": {
    "name": "ipython",
    "version": 3
   },
   "file_extension": ".py",
   "mimetype": "text/x-python",
   "name": "python",
   "nbconvert_exporter": "python",
   "pygments_lexer": "ipython3",
   "version": "3.6.6"
  },
  "toc": {
   "base_numbering": 1,
   "nav_menu": {},
   "number_sections": false,
   "sideBar": true,
   "skip_h1_title": false,
   "title_cell": "Table of Contents",
   "title_sidebar": "Contents",
   "toc_cell": true,
   "toc_position": {
    "height": "calc(100% - 180px)",
    "left": "10px",
    "top": "150px",
    "width": "261.333px"
   },
   "toc_section_display": true,
   "toc_window_display": true
  }
 },
 "nbformat": 4,
 "nbformat_minor": 2
}
